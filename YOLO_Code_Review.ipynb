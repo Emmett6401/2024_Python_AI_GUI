{
  "nbformat": 4,
  "nbformat_minor": 0,
  "metadata": {
    "colab": {
      "private_outputs": true,
      "provenance": [],
      "authorship_tag": "ABX9TyPR1smhh+Li7Z/uJvg6ni9t",
      "include_colab_link": true
    },
    "kernelspec": {
      "name": "python3",
      "display_name": "Python 3"
    },
    "language_info": {
      "name": "python"
    }
  },
  "cells": [
    {
      "cell_type": "markdown",
      "metadata": {
        "id": "view-in-github",
        "colab_type": "text"
      },
      "source": [
        "<a href=\"https://colab.research.google.com/github/Emmett6401/2024_Python_AI_GUI/blob/main/YOLO_Code_Review.ipynb\" target=\"_parent\"><img src=\"https://colab.research.google.com/assets/colab-badge.svg\" alt=\"Open In Colab\"/></a>"
      ]
    },
    {
      "cell_type": "markdown",
      "source": [
        "# YOLO 코드리뷰\n",
        "## 2024 05 28\n"
      ],
      "metadata": {
        "id": "AN73z1h1v8ns"
      }
    },
    {
      "cell_type": "code",
      "execution_count": null,
      "metadata": {
        "id": "pFrzULxiv6JC"
      },
      "outputs": [],
      "source": [
        "%cd /content"
      ]
    },
    {
      "cell_type": "markdown",
      "source": [
        "### 1. 모델 다운로드\n",
        "https://github.com/ultralytics/yolov5\n"
      ],
      "metadata": {
        "id": "SIQhzSfEwgHE"
      }
    },
    {
      "cell_type": "code",
      "source": [
        "!git clone https://github.com/ultralytics/yolov5\n"
      ],
      "metadata": {
        "id": "tRrRe8c3woML"
      },
      "execution_count": null,
      "outputs": []
    },
    {
      "cell_type": "markdown",
      "source": [
        "### 작업폴더로이동\n",
        "cd/content/yolov57"
      ],
      "metadata": {
        "id": "bZMPrZT8xGks"
      }
    },
    {
      "cell_type": "code",
      "source": [
        "cd yolov5"
      ],
      "metadata": {
        "id": "AjEFl5U7xFzk"
      },
      "execution_count": null,
      "outputs": []
    },
    {
      "cell_type": "markdown",
      "source": [
        "현재 설치된 패키지 리스트를 보기\n",
        "```\n",
        "pip list\n",
        "```\n",
        "현재 설치된 패키지 리스트를 requirements.txt 파일에 만들기\n",
        "```\n",
        "pip freeze > requirements.txt\n",
        "```\n",
        "requirements.txt 파일을 이용해서 패키지 설치하기\n",
        "```\n",
        "pip install -r requirements.txt\n",
        "```"
      ],
      "metadata": {
        "id": "llhMJOlvxeUO"
      }
    },
    {
      "cell_type": "code",
      "source": [
        "\n",
        "!pip install -r requirements.txt\n"
      ],
      "metadata": {
        "id": "en4rD5nwxRVk"
      },
      "execution_count": null,
      "outputs": []
    },
    {
      "cell_type": "markdown",
      "source": [
        "### 여기서 사용하는 YOLOv5모델은\n",
        "\n",
        "이전에 나왔던 이미지데이터세트 중에서\n",
        "\n",
        "cocoDataset을 학습하여 만들어져 있다."
      ],
      "metadata": {
        "id": "V0gvllL7yWqU"
      }
    },
    {
      "cell_type": "code",
      "source": [
        "%pwd\n",
        "%cd yolov5"
      ],
      "metadata": {
        "id": "T7EXLd2B0Y-D"
      },
      "execution_count": null,
      "outputs": []
    },
    {
      "cell_type": "markdown",
      "source": [
        "### 2. Inference\n"
      ],
      "metadata": {
        "id": "DWTF1lvyzoyj"
      }
    },
    {
      "cell_type": "code",
      "source": [
        "!python detect.py --weights yolov3.pt --img 640 --conf 0.25 --source data/images/"
      ],
      "metadata": {
        "id": "xwDXuPVZzoVD"
      },
      "execution_count": null,
      "outputs": []
    },
    {
      "cell_type": "markdown",
      "source": [
        "### 3.이상으로 detec.py의 사용 사례 마침"
      ],
      "metadata": {
        "id": "x603_xAr2dOc"
      }
    },
    {
      "cell_type": "code",
      "source": [],
      "metadata": {
        "id": "lEiGogfRzrxb"
      },
      "execution_count": null,
      "outputs": []
    }
  ]
}